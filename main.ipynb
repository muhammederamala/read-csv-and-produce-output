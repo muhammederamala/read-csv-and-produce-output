{
 "cells": [
  {
   "cell_type": "code",
   "execution_count": null,
   "id": "71708014",
   "metadata": {},
   "outputs": [],
   "source": [
    "import pandas as pd\n",
    "import numpy as np"
   ]
  },
  {
   "cell_type": "code",
   "execution_count": null,
   "id": "4c3b095d",
   "metadata": {},
   "outputs": [],
   "source": [
    "import warnings\n",
    "warnings.filterwarnings(\"ignore\", category=DeprecationWarning)"
   ]
  },
  {
   "cell_type": "code",
   "execution_count": null,
   "id": "db575eb9",
   "metadata": {},
   "outputs": [],
   "source": [
    "userdata = pd.read_csv(\"C:/Users/muham/Music/5/input/user_data - Sheet1.csv\")"
   ]
  },
  {
   "cell_type": "code",
   "execution_count": null,
   "id": "642bc789",
   "metadata": {},
   "outputs": [],
   "source": [
    "print(userdata)"
   ]
  },
  {
   "cell_type": "code",
   "execution_count": null,
   "id": "b97127ea",
   "metadata": {},
   "outputs": [],
   "source": [
    "rigordata = pd.read_csv(\"C:/Users/muham/Music/5/input/rigor_data - Sheet1.csv\")"
   ]
  },
  {
   "cell_type": "code",
   "execution_count": null,
   "id": "47cc6757",
   "metadata": {},
   "outputs": [],
   "source": [
    "print (rigordata)"
   ]
  },
  {
   "cell_type": "code",
   "execution_count": null,
   "id": "0edf5fc3",
   "metadata": {},
   "outputs": [],
   "source": [
    "for row in rigordata:\n",
    "    rigordata['count']=rigordata['total_statements']+rigordata['total_reasons']"
   ]
  },
  {
   "cell_type": "code",
   "execution_count": null,
   "id": "f35c43d7",
   "metadata": {},
   "outputs": [],
   "source": [
    "print(rigordata['count'])"
   ]
  },
  {
   "cell_type": "code",
   "execution_count": null,
   "id": "174a3355",
   "metadata": {},
   "outputs": [],
   "source": [
    "rigordata.sort_values('count', ascending = False, inplace=True)"
   ]
  },
  {
   "cell_type": "code",
   "execution_count": null,
   "id": "04fbee07",
   "metadata": {},
   "outputs": [],
   "source": [
    "print(rigordata)"
   ]
  },
  {
   "cell_type": "code",
   "execution_count": null,
   "id": "9a220466",
   "metadata": {},
   "outputs": [],
   "source": [
    "rigordata.to_csv('newrigor.csv', index=False)\n"
   ]
  },
  {
   "cell_type": "code",
   "execution_count": null,
   "id": "4d81e901",
   "metadata": {},
   "outputs": [],
   "source": [
    "import csv\n",
    "\n",
    "filename = \"leaderboard_individual.csv\"\n",
    "\n",
    "fieldnames = [\"Rank\"]\n",
    "\n",
    "with open(filename, 'w', newline='') as csvfile:\n",
    "    writer = csv.DictWriter(csvfile, fieldnames=fieldnames)\n",
    "\n",
    "    writer.writeheader()\n",
    "\n",
    "    for i in range(1, 22):\n",
    "        writer.writerow({'Rank': i})\n",
    "\n"
   ]
  },
  {
   "cell_type": "code",
   "execution_count": null,
   "id": "a1b4d897",
   "metadata": {},
   "outputs": [],
   "source": [
    "leaderboard_individual = pd.read_csv(\"C:/Users/muham/Music/5/leaderboard_individual.csv\")"
   ]
  },
  {
   "cell_type": "code",
   "execution_count": null,
   "id": "a791184c",
   "metadata": {},
   "outputs": [],
   "source": [
    "print(leaderboard_individual)"
   ]
  },
  {
   "cell_type": "code",
   "execution_count": null,
   "id": "d6a7da1a",
   "metadata": {},
   "outputs": [],
   "source": [
    "\n",
    "# Read in the first CSV file\n",
    "leaderboard_individual = pd.read_csv(\"C:/Users/muham/Music/5/leaderboard_individual.csv\")\n",
    "\n",
    "rigordata = pd.read_csv(\"C:/Users/muham/Music/5/newrigor.csv\", usecols=['name','uid','total_statements','total_reasons'])\n",
    "\n",
    "# Add the copied column as a new column to the first CSV file\n",
    "leaderboard_individual['name'] = rigordata['name']\n",
    "leaderboard_individual['uid'] = rigordata['uid'] \n",
    "leaderboard_individual['total_statements'] = rigordata['total_statements'] \n",
    "leaderboard_individual['total_reasons'] = rigordata['total_reasons'] \n",
    "\n",
    "# Write the modified data to a new CSV file\n",
    "leaderboard_individual.to_csv('leaderboard_individual.csv', index=False)\n"
   ]
  },
  {
   "cell_type": "code",
   "execution_count": null,
   "id": "b0727c6e",
   "metadata": {},
   "outputs": [],
   "source": [
    "# TASK 2"
   ]
  },
  {
   "cell_type": "code",
   "execution_count": 1,
   "id": "47458b0c",
   "metadata": {},
   "outputs": [],
   "source": [
    "import pandas as pd\n",
    "import numpy as np\n",
    "import csv"
   ]
  },
  {
   "cell_type": "code",
   "execution_count": 2,
   "id": "d418dae7",
   "metadata": {},
   "outputs": [],
   "source": [
    "builder = pd.read_csv(\"C:/Users/muham/Music/5/input/rigor_data - Sheet1.csv\")"
   ]
  },
  {
   "cell_type": "code",
   "execution_count": 3,
   "id": "d799571c",
   "metadata": {},
   "outputs": [],
   "source": [
    "usr = pd.read_csv(\"C:/Users/muham/Music/5/input/user_data - Sheet1.csv\")"
   ]
  },
  {
   "cell_type": "code",
   "execution_count": 4,
   "id": "8d022d1a",
   "metadata": {},
   "outputs": [],
   "source": [
    "columns = ['name','uid','team_name','total_statements','total_reasons']\n"
   ]
  },
  {
   "cell_type": "code",
   "execution_count": 5,
   "id": "0cadde1e",
   "metadata": {},
   "outputs": [],
   "source": [
    "combined = pd.DataFrame(columns=columns)"
   ]
  },
  {
   "cell_type": "code",
   "execution_count": 6,
   "id": "c3875da4",
   "metadata": {},
   "outputs": [
    {
     "name": "stdout",
     "output_type": "stream",
     "text": [
      "Empty DataFrame\n",
      "Columns: [name, uid, team_name, total_statements, total_reasons]\n",
      "Index: []\n"
     ]
    }
   ],
   "source": [
    "print(combined)"
   ]
  },
  {
   "cell_type": "code",
   "execution_count": 7,
   "id": "02a9a4b8",
   "metadata": {},
   "outputs": [],
   "source": [
    "combined['name'] = usr['Name']\n",
    "combined['uid'] = builder['uid']\n",
    "combined['team_name'] = usr['Team_Name']\n",
    "combined['total_statements'] = builder['total_statements']\n",
    "combined['total_reasons'] = builder['total_reasons']"
   ]
  },
  {
   "cell_type": "code",
   "execution_count": 8,
   "id": "770392f0",
   "metadata": {},
   "outputs": [
    {
     "name": "stdout",
     "output_type": "stream",
     "text": [
      "             name   uid            team_name  total_statements  total_reasons\n",
      "0       Soumita M   280  Winning Culture Lab                13             21\n",
      "1      Subhangi 0    75  Winning Culture Lab                13             16\n",
      "2     Nitin Shane  1124  Winning Culture Lab                12             11\n",
      "3          Merwin   295               Mentor                13             12\n",
      "4   fardinkamal62   263    Human Capital Lab                 2              2\n",
      "5   __riddhi_213_   504    Human Capital Lab                 2              7\n",
      "6     Rohit Dutta   266               Mentor                 3              3\n",
      "7        imshawan    71             Tech Lab                 9              9\n",
      "8    Anuraj_Saini   342        BrandTech Lab                 7              7\n",
      "9         sharath  3367  Student Unicorn Lab                 8              8\n",
      "10        Ronak 0   302             Tech Lab                16             19\n",
      "11  Amrit Malviya   336        BrandTech Lab                 2              4\n",
      "12        Saurabh   271               Mentor                 6              8\n",
      "13    darshimalde  3169  Student Unicorn Lab                 3              3\n",
      "14         Shagun   100             Tech Lab                 2              2\n",
      "15         Ayisha  3406  Student Unicorn Lab                11              8\n",
      "16         Palash    69            Growpital                 6              7\n",
      "17          raman   539            Growpital                 5              5\n",
      "18        Nishant   299            Growpital                 4              5\n",
      "19         Vatsal  3408              Kringle                 2              2\n",
      "20       devmenkr   360              Kringle                 7              7\n"
     ]
    }
   ],
   "source": [
    "print(combined)"
   ]
  },
  {
   "cell_type": "code",
   "execution_count": 9,
   "id": "ca0bc6de",
   "metadata": {},
   "outputs": [
    {
     "name": "stdout",
     "output_type": "stream",
     "text": [
      "          name   uid            team_name  total_statements  total_reasons\n",
      "0    Soumita M   280  Winning Culture Lab                13             21\n",
      "1   Subhangi 0    75  Winning Culture Lab                13             16\n",
      "2  Nitin Shane  1124  Winning Culture Lab                12             11\n"
     ]
    }
   ],
   "source": [
    "winning_culture = combined.loc[combined['team_name'] == 'Winning Culture Lab']\n",
    "print(winning_culture)"
   ]
  },
  {
   "cell_type": "code",
   "execution_count": 10,
   "id": "3fb368bb",
   "metadata": {},
   "outputs": [
    {
     "name": "stdout",
     "output_type": "stream",
     "text": [
      "          name   uid            team_name  total_statements  total_reasons\n",
      "0    Soumita M   280  Winning Culture Lab                13             21\n",
      "1   Subhangi 0    75  Winning Culture Lab                13             16\n",
      "2  Nitin Shane  1124  Winning Culture Lab                12             11\n"
     ]
    }
   ],
   "source": [
    "print(winning_culture)"
   ]
  },
  {
   "cell_type": "code",
   "execution_count": 11,
   "id": "960a4c9f",
   "metadata": {},
   "outputs": [
    {
     "name": "stdout",
     "output_type": "stream",
     "text": [
      "38\n",
      "48\n"
     ]
    }
   ],
   "source": [
    "total_statements = winning_culture['total_statements'].sum()\n",
    "total_reasons = winning_culture['total_reasons'].sum()\n",
    "print(total_statements)\n",
    "print(total_reasons)"
   ]
  },
  {
   "cell_type": "code",
   "execution_count": 12,
   "id": "fce59103",
   "metadata": {},
   "outputs": [
    {
     "name": "stderr",
     "output_type": "stream",
     "text": [
      "C:\\Users\\muham\\AppData\\Local\\Temp\\ipykernel_10660\\71519491.py:2: SettingWithCopyWarning: \n",
      "A value is trying to be set on a copy of a slice from a DataFrame.\n",
      "Try using .loc[row_indexer,col_indexer] = value instead\n",
      "\n",
      "See the caveats in the documentation: https://pandas.pydata.org/pandas-docs/stable/user_guide/indexing.html#returning-a-view-versus-a-copy\n",
      "  winning_culture['average_statements'] = total_statements/3\n",
      "C:\\Users\\muham\\AppData\\Local\\Temp\\ipykernel_10660\\71519491.py:3: SettingWithCopyWarning: \n",
      "A value is trying to be set on a copy of a slice from a DataFrame.\n",
      "Try using .loc[row_indexer,col_indexer] = value instead\n",
      "\n",
      "See the caveats in the documentation: https://pandas.pydata.org/pandas-docs/stable/user_guide/indexing.html#returning-a-view-versus-a-copy\n",
      "  winning_culture['average_reasons'] = total_reasons/3\n",
      "C:\\Users\\muham\\AppData\\Local\\Temp\\ipykernel_10660\\71519491.py:2: SettingWithCopyWarning: \n",
      "A value is trying to be set on a copy of a slice from a DataFrame.\n",
      "Try using .loc[row_indexer,col_indexer] = value instead\n",
      "\n",
      "See the caveats in the documentation: https://pandas.pydata.org/pandas-docs/stable/user_guide/indexing.html#returning-a-view-versus-a-copy\n",
      "  winning_culture['average_statements'] = total_statements/3\n"
     ]
    },
    {
     "name": "stdout",
     "output_type": "stream",
     "text": [
      "          name   uid            team_name  total_statements  total_reasons  \\\n",
      "0    Soumita M   280  Winning Culture Lab                13             21   \n",
      "1   Subhangi 0    75  Winning Culture Lab                13             16   \n",
      "2  Nitin Shane  1124  Winning Culture Lab                12             11   \n",
      "\n",
      "   average_statements  average_reasons  \n",
      "0           12.666667             16.0  \n",
      "1           12.666667             16.0  \n",
      "2           12.666667             16.0  \n"
     ]
    }
   ],
   "source": [
    "for row in winning_culture:\n",
    "    winning_culture['average_statements'] = total_statements/3\n",
    "    winning_culture['average_reasons'] = total_reasons/3\n",
    "print(winning_culture)"
   ]
  },
  {
   "cell_type": "code",
   "execution_count": 13,
   "id": "c29f1913",
   "metadata": {},
   "outputs": [
    {
     "name": "stdout",
     "output_type": "stream",
     "text": [
      "           name  uid team_name  total_statements  total_reasons\n",
      "3        Merwin  295    Mentor                13             12\n",
      "6   Rohit Dutta  266    Mentor                 3              3\n",
      "12      Saurabh  271    Mentor                 6              8\n"
     ]
    }
   ],
   "source": [
    "mentor = combined.loc[combined['team_name'] == 'Mentor']\n",
    "print(mentor)"
   ]
  },
  {
   "cell_type": "code",
   "execution_count": 14,
   "id": "77a95ec2",
   "metadata": {},
   "outputs": [
    {
     "name": "stdout",
     "output_type": "stream",
     "text": [
      "22\n",
      "23\n"
     ]
    }
   ],
   "source": [
    "total_statements = mentor['total_statements'].sum()\n",
    "total_reasons = mentor['total_reasons'].sum()\n",
    "print(total_statements)\n",
    "print(total_reasons)"
   ]
  },
  {
   "cell_type": "code",
   "execution_count": 15,
   "id": "c0d42e1e",
   "metadata": {},
   "outputs": [
    {
     "name": "stderr",
     "output_type": "stream",
     "text": [
      "C:\\Users\\muham\\AppData\\Local\\Temp\\ipykernel_10660\\4100973906.py:2: SettingWithCopyWarning: \n",
      "A value is trying to be set on a copy of a slice from a DataFrame.\n",
      "Try using .loc[row_indexer,col_indexer] = value instead\n",
      "\n",
      "See the caveats in the documentation: https://pandas.pydata.org/pandas-docs/stable/user_guide/indexing.html#returning-a-view-versus-a-copy\n",
      "  mentor['average_statements'] = total_statements/3\n",
      "C:\\Users\\muham\\AppData\\Local\\Temp\\ipykernel_10660\\4100973906.py:3: SettingWithCopyWarning: \n",
      "A value is trying to be set on a copy of a slice from a DataFrame.\n",
      "Try using .loc[row_indexer,col_indexer] = value instead\n",
      "\n",
      "See the caveats in the documentation: https://pandas.pydata.org/pandas-docs/stable/user_guide/indexing.html#returning-a-view-versus-a-copy\n",
      "  mentor['average_reasons'] = total_reasons/3\n",
      "C:\\Users\\muham\\AppData\\Local\\Temp\\ipykernel_10660\\4100973906.py:2: SettingWithCopyWarning: \n",
      "A value is trying to be set on a copy of a slice from a DataFrame.\n",
      "Try using .loc[row_indexer,col_indexer] = value instead\n",
      "\n",
      "See the caveats in the documentation: https://pandas.pydata.org/pandas-docs/stable/user_guide/indexing.html#returning-a-view-versus-a-copy\n",
      "  mentor['average_statements'] = total_statements/3\n"
     ]
    },
    {
     "name": "stdout",
     "output_type": "stream",
     "text": [
      "           name  uid team_name  total_statements  total_reasons  \\\n",
      "3        Merwin  295    Mentor                13             12   \n",
      "6   Rohit Dutta  266    Mentor                 3              3   \n",
      "12      Saurabh  271    Mentor                 6              8   \n",
      "\n",
      "    average_statements  average_reasons  \n",
      "3             7.333333         7.666667  \n",
      "6             7.333333         7.666667  \n",
      "12            7.333333         7.666667  \n"
     ]
    }
   ],
   "source": [
    "for row in mentor:\n",
    "    mentor['average_statements'] = total_statements/3\n",
    "    mentor['average_reasons'] = total_reasons/3\n",
    "print(mentor)"
   ]
  },
  {
   "cell_type": "code",
   "execution_count": 16,
   "id": "74a4560f",
   "metadata": {},
   "outputs": [
    {
     "name": "stdout",
     "output_type": "stream",
     "text": [
      "            name  uid          team_name  total_statements  total_reasons\n",
      "4  fardinkamal62  263  Human Capital Lab                 2              2\n",
      "5  __riddhi_213_  504  Human Capital Lab                 2              7\n"
     ]
    }
   ],
   "source": [
    "human_capital = combined.loc[combined['team_name'] == 'Human Capital Lab']\n",
    "print(human_capital)"
   ]
  },
  {
   "cell_type": "code",
   "execution_count": 17,
   "id": "c802528d",
   "metadata": {},
   "outputs": [
    {
     "name": "stdout",
     "output_type": "stream",
     "text": [
      "4\n",
      "9\n"
     ]
    }
   ],
   "source": [
    "total_statements = human_capital['total_statements'].sum()\n",
    "total_reasons = human_capital['total_reasons'].sum()\n",
    "print(total_statements)\n",
    "print(total_reasons)"
   ]
  },
  {
   "cell_type": "code",
   "execution_count": 18,
   "id": "cf3dfec3",
   "metadata": {},
   "outputs": [
    {
     "name": "stderr",
     "output_type": "stream",
     "text": [
      "C:\\Users\\muham\\AppData\\Local\\Temp\\ipykernel_10660\\1393860788.py:2: SettingWithCopyWarning: \n",
      "A value is trying to be set on a copy of a slice from a DataFrame.\n",
      "Try using .loc[row_indexer,col_indexer] = value instead\n",
      "\n",
      "See the caveats in the documentation: https://pandas.pydata.org/pandas-docs/stable/user_guide/indexing.html#returning-a-view-versus-a-copy\n",
      "  human_capital['average_statements'] = total_statements/2\n",
      "C:\\Users\\muham\\AppData\\Local\\Temp\\ipykernel_10660\\1393860788.py:3: SettingWithCopyWarning: \n",
      "A value is trying to be set on a copy of a slice from a DataFrame.\n",
      "Try using .loc[row_indexer,col_indexer] = value instead\n",
      "\n",
      "See the caveats in the documentation: https://pandas.pydata.org/pandas-docs/stable/user_guide/indexing.html#returning-a-view-versus-a-copy\n",
      "  human_capital['average_reasons'] = total_reasons/2\n",
      "C:\\Users\\muham\\AppData\\Local\\Temp\\ipykernel_10660\\1393860788.py:2: SettingWithCopyWarning: \n",
      "A value is trying to be set on a copy of a slice from a DataFrame.\n",
      "Try using .loc[row_indexer,col_indexer] = value instead\n",
      "\n",
      "See the caveats in the documentation: https://pandas.pydata.org/pandas-docs/stable/user_guide/indexing.html#returning-a-view-versus-a-copy\n",
      "  human_capital['average_statements'] = total_statements/2\n"
     ]
    },
    {
     "name": "stdout",
     "output_type": "stream",
     "text": [
      "            name  uid          team_name  total_statements  total_reasons  \\\n",
      "4  fardinkamal62  263  Human Capital Lab                 2              2   \n",
      "5  __riddhi_213_  504  Human Capital Lab                 2              7   \n",
      "\n",
      "   average_statements  average_reasons  \n",
      "4                 2.0              4.5  \n",
      "5                 2.0              4.5  \n"
     ]
    }
   ],
   "source": [
    "for row in human_capital:\n",
    "    human_capital['average_statements'] = total_statements/2\n",
    "    human_capital['average_reasons'] = total_reasons/2\n",
    "print(human_capital)"
   ]
  },
  {
   "cell_type": "code",
   "execution_count": 19,
   "id": "3b5b77a4",
   "metadata": {},
   "outputs": [
    {
     "name": "stdout",
     "output_type": "stream",
     "text": [
      "        name  uid team_name  total_statements  total_reasons\n",
      "7   imshawan   71  Tech Lab                 9              9\n",
      "10   Ronak 0  302  Tech Lab                16             19\n",
      "14    Shagun  100  Tech Lab                 2              2\n"
     ]
    }
   ],
   "source": [
    "tech_lab = combined.loc[combined['team_name'] == 'Tech Lab']\n",
    "print(tech_lab)"
   ]
  },
  {
   "cell_type": "code",
   "execution_count": 20,
   "id": "2b76d9ce",
   "metadata": {},
   "outputs": [
    {
     "name": "stdout",
     "output_type": "stream",
     "text": [
      "27\n",
      "30\n"
     ]
    }
   ],
   "source": [
    "total_statements = tech_lab['total_statements'].sum()\n",
    "total_reasons = tech_lab['total_reasons'].sum()\n",
    "print(total_statements)\n",
    "print(total_reasons)"
   ]
  },
  {
   "cell_type": "code",
   "execution_count": 21,
   "id": "eff6b8c3",
   "metadata": {},
   "outputs": [
    {
     "name": "stderr",
     "output_type": "stream",
     "text": [
      "C:\\Users\\muham\\AppData\\Local\\Temp\\ipykernel_10660\\3347745716.py:2: SettingWithCopyWarning: \n",
      "A value is trying to be set on a copy of a slice from a DataFrame.\n",
      "Try using .loc[row_indexer,col_indexer] = value instead\n",
      "\n",
      "See the caveats in the documentation: https://pandas.pydata.org/pandas-docs/stable/user_guide/indexing.html#returning-a-view-versus-a-copy\n",
      "  tech_lab['average_statements'] = total_statements/3\n",
      "C:\\Users\\muham\\AppData\\Local\\Temp\\ipykernel_10660\\3347745716.py:3: SettingWithCopyWarning: \n",
      "A value is trying to be set on a copy of a slice from a DataFrame.\n",
      "Try using .loc[row_indexer,col_indexer] = value instead\n",
      "\n",
      "See the caveats in the documentation: https://pandas.pydata.org/pandas-docs/stable/user_guide/indexing.html#returning-a-view-versus-a-copy\n",
      "  tech_lab['average_reasons'] = total_reasons/3\n",
      "C:\\Users\\muham\\AppData\\Local\\Temp\\ipykernel_10660\\3347745716.py:2: SettingWithCopyWarning: \n",
      "A value is trying to be set on a copy of a slice from a DataFrame.\n",
      "Try using .loc[row_indexer,col_indexer] = value instead\n",
      "\n",
      "See the caveats in the documentation: https://pandas.pydata.org/pandas-docs/stable/user_guide/indexing.html#returning-a-view-versus-a-copy\n",
      "  tech_lab['average_statements'] = total_statements/3\n"
     ]
    },
    {
     "name": "stdout",
     "output_type": "stream",
     "text": [
      "        name  uid team_name  total_statements  total_reasons  \\\n",
      "7   imshawan   71  Tech Lab                 9              9   \n",
      "10   Ronak 0  302  Tech Lab                16             19   \n",
      "14    Shagun  100  Tech Lab                 2              2   \n",
      "\n",
      "    average_statements  average_reasons  \n",
      "7                  9.0             10.0  \n",
      "10                 9.0             10.0  \n",
      "14                 9.0             10.0  \n"
     ]
    }
   ],
   "source": [
    "for row in tech_lab:\n",
    "    tech_lab['average_statements'] = total_statements/3\n",
    "    tech_lab['average_reasons'] = total_reasons/3\n",
    "print(tech_lab)"
   ]
  },
  {
   "cell_type": "code",
   "execution_count": 22,
   "id": "88f4c360",
   "metadata": {},
   "outputs": [
    {
     "name": "stdout",
     "output_type": "stream",
     "text": [
      "             name  uid      team_name  total_statements  total_reasons\n",
      "8    Anuraj_Saini  342  BrandTech Lab                 7              7\n",
      "11  Amrit Malviya  336  BrandTech Lab                 2              4\n"
     ]
    }
   ],
   "source": [
    "brand_tech = combined.loc[combined['team_name'] == 'BrandTech Lab']\n",
    "print(brand_tech)"
   ]
  },
  {
   "cell_type": "code",
   "execution_count": 23,
   "id": "5b3f2811",
   "metadata": {},
   "outputs": [
    {
     "name": "stdout",
     "output_type": "stream",
     "text": [
      "9\n",
      "11\n"
     ]
    }
   ],
   "source": [
    "total_statements = brand_tech['total_statements'].sum()\n",
    "total_reasons = brand_tech['total_reasons'].sum()\n",
    "print(total_statements)\n",
    "print(total_reasons)"
   ]
  },
  {
   "cell_type": "code",
   "execution_count": 24,
   "id": "a7770e6d",
   "metadata": {},
   "outputs": [
    {
     "name": "stdout",
     "output_type": "stream",
     "text": [
      "             name  uid      team_name  total_statements  total_reasons  \\\n",
      "8    Anuraj_Saini  342  BrandTech Lab                 7              7   \n",
      "11  Amrit Malviya  336  BrandTech Lab                 2              4   \n",
      "\n",
      "    average_statements  average_reasons  \n",
      "8                  4.5              5.5  \n",
      "11                 4.5              5.5  \n"
     ]
    },
    {
     "name": "stderr",
     "output_type": "stream",
     "text": [
      "C:\\Users\\muham\\AppData\\Local\\Temp\\ipykernel_10660\\2516005105.py:2: SettingWithCopyWarning: \n",
      "A value is trying to be set on a copy of a slice from a DataFrame.\n",
      "Try using .loc[row_indexer,col_indexer] = value instead\n",
      "\n",
      "See the caveats in the documentation: https://pandas.pydata.org/pandas-docs/stable/user_guide/indexing.html#returning-a-view-versus-a-copy\n",
      "  brand_tech['average_statements'] = total_statements/2\n",
      "C:\\Users\\muham\\AppData\\Local\\Temp\\ipykernel_10660\\2516005105.py:3: SettingWithCopyWarning: \n",
      "A value is trying to be set on a copy of a slice from a DataFrame.\n",
      "Try using .loc[row_indexer,col_indexer] = value instead\n",
      "\n",
      "See the caveats in the documentation: https://pandas.pydata.org/pandas-docs/stable/user_guide/indexing.html#returning-a-view-versus-a-copy\n",
      "  brand_tech['average_reasons'] = total_reasons/2\n",
      "C:\\Users\\muham\\AppData\\Local\\Temp\\ipykernel_10660\\2516005105.py:2: SettingWithCopyWarning: \n",
      "A value is trying to be set on a copy of a slice from a DataFrame.\n",
      "Try using .loc[row_indexer,col_indexer] = value instead\n",
      "\n",
      "See the caveats in the documentation: https://pandas.pydata.org/pandas-docs/stable/user_guide/indexing.html#returning-a-view-versus-a-copy\n",
      "  brand_tech['average_statements'] = total_statements/2\n"
     ]
    }
   ],
   "source": [
    "for row in brand_tech:\n",
    "    brand_tech['average_statements'] = total_statements/2\n",
    "    brand_tech['average_reasons'] = total_reasons/2\n",
    "print(brand_tech)"
   ]
  },
  {
   "cell_type": "code",
   "execution_count": 25,
   "id": "825c670e",
   "metadata": {},
   "outputs": [
    {
     "name": "stdout",
     "output_type": "stream",
     "text": [
      "           name   uid            team_name  total_statements  total_reasons\n",
      "9       sharath  3367  Student Unicorn Lab                 8              8\n",
      "13  darshimalde  3169  Student Unicorn Lab                 3              3\n",
      "15       Ayisha  3406  Student Unicorn Lab                11              8\n"
     ]
    }
   ],
   "source": [
    "unicorn_lab = combined.loc[combined['team_name'] == 'Student Unicorn Lab']\n",
    "print(unicorn_lab)"
   ]
  },
  {
   "cell_type": "code",
   "execution_count": 26,
   "id": "8554a9ca",
   "metadata": {},
   "outputs": [
    {
     "name": "stdout",
     "output_type": "stream",
     "text": [
      "22\n",
      "19\n"
     ]
    }
   ],
   "source": [
    "total_statements = unicorn_lab['total_statements'].sum()\n",
    "total_reasons = unicorn_lab['total_reasons'].sum()\n",
    "print(total_statements)\n",
    "print(total_reasons)"
   ]
  },
  {
   "cell_type": "code",
   "execution_count": 27,
   "id": "b9efda28",
   "metadata": {},
   "outputs": [
    {
     "name": "stderr",
     "output_type": "stream",
     "text": [
      "C:\\Users\\muham\\AppData\\Local\\Temp\\ipykernel_10660\\419253260.py:2: SettingWithCopyWarning: \n",
      "A value is trying to be set on a copy of a slice from a DataFrame.\n",
      "Try using .loc[row_indexer,col_indexer] = value instead\n",
      "\n",
      "See the caveats in the documentation: https://pandas.pydata.org/pandas-docs/stable/user_guide/indexing.html#returning-a-view-versus-a-copy\n",
      "  unicorn_lab['average_statements'] = total_statements/3\n",
      "C:\\Users\\muham\\AppData\\Local\\Temp\\ipykernel_10660\\419253260.py:3: SettingWithCopyWarning: \n",
      "A value is trying to be set on a copy of a slice from a DataFrame.\n",
      "Try using .loc[row_indexer,col_indexer] = value instead\n",
      "\n",
      "See the caveats in the documentation: https://pandas.pydata.org/pandas-docs/stable/user_guide/indexing.html#returning-a-view-versus-a-copy\n",
      "  unicorn_lab['average_reasons'] = total_reasons/3\n",
      "C:\\Users\\muham\\AppData\\Local\\Temp\\ipykernel_10660\\419253260.py:2: SettingWithCopyWarning: \n",
      "A value is trying to be set on a copy of a slice from a DataFrame.\n",
      "Try using .loc[row_indexer,col_indexer] = value instead\n",
      "\n",
      "See the caveats in the documentation: https://pandas.pydata.org/pandas-docs/stable/user_guide/indexing.html#returning-a-view-versus-a-copy\n",
      "  unicorn_lab['average_statements'] = total_statements/3\n"
     ]
    },
    {
     "name": "stdout",
     "output_type": "stream",
     "text": [
      "           name   uid            team_name  total_statements  total_reasons  \\\n",
      "9       sharath  3367  Student Unicorn Lab                 8              8   \n",
      "13  darshimalde  3169  Student Unicorn Lab                 3              3   \n",
      "15       Ayisha  3406  Student Unicorn Lab                11              8   \n",
      "\n",
      "    average_statements  average_reasons  \n",
      "9             7.333333         6.333333  \n",
      "13            7.333333         6.333333  \n",
      "15            7.333333         6.333333  \n"
     ]
    }
   ],
   "source": [
    "for row in unicorn_lab:\n",
    "    unicorn_lab['average_statements'] = total_statements/3\n",
    "    unicorn_lab['average_reasons'] = total_reasons/3\n",
    "print(unicorn_lab)"
   ]
  },
  {
   "cell_type": "code",
   "execution_count": 28,
   "id": "6a7c4292",
   "metadata": {},
   "outputs": [
    {
     "name": "stdout",
     "output_type": "stream",
     "text": [
      "       name  uid  team_name  total_statements  total_reasons\n",
      "16   Palash   69  Growpital                 6              7\n",
      "17    raman  539  Growpital                 5              5\n",
      "18  Nishant  299  Growpital                 4              5\n"
     ]
    }
   ],
   "source": [
    "growpital = combined.loc[combined['team_name'] == 'Growpital']\n",
    "print(growpital)"
   ]
  },
  {
   "cell_type": "code",
   "execution_count": 29,
   "id": "566b9464",
   "metadata": {},
   "outputs": [
    {
     "name": "stdout",
     "output_type": "stream",
     "text": [
      "15\n",
      "17\n"
     ]
    }
   ],
   "source": [
    "total_statements = growpital['total_statements'].sum()\n",
    "total_reasons = growpital['total_reasons'].sum()\n",
    "print(total_statements)\n",
    "print(total_reasons)"
   ]
  },
  {
   "cell_type": "code",
   "execution_count": 30,
   "id": "8989b0d5",
   "metadata": {},
   "outputs": [
    {
     "name": "stdout",
     "output_type": "stream",
     "text": [
      "       name  uid  team_name  total_statements  total_reasons  \\\n",
      "16   Palash   69  Growpital                 6              7   \n",
      "17    raman  539  Growpital                 5              5   \n",
      "18  Nishant  299  Growpital                 4              5   \n",
      "\n",
      "    average_statements  average_reasons  \n",
      "16                 5.0         5.666667  \n",
      "17                 5.0         5.666667  \n",
      "18                 5.0         5.666667  \n"
     ]
    },
    {
     "name": "stderr",
     "output_type": "stream",
     "text": [
      "C:\\Users\\muham\\AppData\\Local\\Temp\\ipykernel_10660\\2424412968.py:2: SettingWithCopyWarning: \n",
      "A value is trying to be set on a copy of a slice from a DataFrame.\n",
      "Try using .loc[row_indexer,col_indexer] = value instead\n",
      "\n",
      "See the caveats in the documentation: https://pandas.pydata.org/pandas-docs/stable/user_guide/indexing.html#returning-a-view-versus-a-copy\n",
      "  growpital['average_statements'] = total_statements/3\n",
      "C:\\Users\\muham\\AppData\\Local\\Temp\\ipykernel_10660\\2424412968.py:3: SettingWithCopyWarning: \n",
      "A value is trying to be set on a copy of a slice from a DataFrame.\n",
      "Try using .loc[row_indexer,col_indexer] = value instead\n",
      "\n",
      "See the caveats in the documentation: https://pandas.pydata.org/pandas-docs/stable/user_guide/indexing.html#returning-a-view-versus-a-copy\n",
      "  growpital['average_reasons'] = total_reasons/3\n",
      "C:\\Users\\muham\\AppData\\Local\\Temp\\ipykernel_10660\\2424412968.py:2: SettingWithCopyWarning: \n",
      "A value is trying to be set on a copy of a slice from a DataFrame.\n",
      "Try using .loc[row_indexer,col_indexer] = value instead\n",
      "\n",
      "See the caveats in the documentation: https://pandas.pydata.org/pandas-docs/stable/user_guide/indexing.html#returning-a-view-versus-a-copy\n",
      "  growpital['average_statements'] = total_statements/3\n"
     ]
    }
   ],
   "source": [
    "for row in growpital:\n",
    "    growpital['average_statements'] = total_statements/3\n",
    "    growpital['average_reasons'] = total_reasons/3\n",
    "print(growpital)"
   ]
  },
  {
   "cell_type": "code",
   "execution_count": 31,
   "id": "a37306d7",
   "metadata": {},
   "outputs": [
    {
     "name": "stdout",
     "output_type": "stream",
     "text": [
      "        name   uid team_name  total_statements  total_reasons\n",
      "19    Vatsal  3408   Kringle                 2              2\n",
      "20  devmenkr   360   Kringle                 7              7\n"
     ]
    }
   ],
   "source": [
    "kringle = combined.loc[combined['team_name'] == 'Kringle']\n",
    "print(kringle)"
   ]
  },
  {
   "cell_type": "code",
   "execution_count": 32,
   "id": "7478e37d",
   "metadata": {},
   "outputs": [
    {
     "name": "stdout",
     "output_type": "stream",
     "text": [
      "9\n",
      "9\n"
     ]
    }
   ],
   "source": [
    "total_statements = kringle['total_statements'].sum()\n",
    "total_reasons = kringle['total_reasons'].sum()\n",
    "print(total_statements)\n",
    "print(total_reasons)"
   ]
  },
  {
   "cell_type": "code",
   "execution_count": 33,
   "id": "a1c4f9b3",
   "metadata": {},
   "outputs": [
    {
     "name": "stderr",
     "output_type": "stream",
     "text": [
      "C:\\Users\\muham\\AppData\\Local\\Temp\\ipykernel_10660\\2356610368.py:2: SettingWithCopyWarning: \n",
      "A value is trying to be set on a copy of a slice from a DataFrame.\n",
      "Try using .loc[row_indexer,col_indexer] = value instead\n",
      "\n",
      "See the caveats in the documentation: https://pandas.pydata.org/pandas-docs/stable/user_guide/indexing.html#returning-a-view-versus-a-copy\n",
      "  kringle['average_statements'] = total_statements/2\n",
      "C:\\Users\\muham\\AppData\\Local\\Temp\\ipykernel_10660\\2356610368.py:3: SettingWithCopyWarning: \n",
      "A value is trying to be set on a copy of a slice from a DataFrame.\n",
      "Try using .loc[row_indexer,col_indexer] = value instead\n",
      "\n",
      "See the caveats in the documentation: https://pandas.pydata.org/pandas-docs/stable/user_guide/indexing.html#returning-a-view-versus-a-copy\n",
      "  kringle['average_reasons'] = total_reasons/2\n",
      "C:\\Users\\muham\\AppData\\Local\\Temp\\ipykernel_10660\\2356610368.py:2: SettingWithCopyWarning: \n",
      "A value is trying to be set on a copy of a slice from a DataFrame.\n",
      "Try using .loc[row_indexer,col_indexer] = value instead\n",
      "\n",
      "See the caveats in the documentation: https://pandas.pydata.org/pandas-docs/stable/user_guide/indexing.html#returning-a-view-versus-a-copy\n",
      "  kringle['average_statements'] = total_statements/2\n"
     ]
    },
    {
     "name": "stdout",
     "output_type": "stream",
     "text": [
      "        name   uid team_name  total_statements  total_reasons  \\\n",
      "19    Vatsal  3408   Kringle                 2              2   \n",
      "20  devmenkr   360   Kringle                 7              7   \n",
      "\n",
      "    average_statements  average_reasons  \n",
      "19                 4.5              4.5  \n",
      "20                 4.5              4.5  \n"
     ]
    }
   ],
   "source": [
    "for row in brand_tech:\n",
    "    kringle['average_statements'] = total_statements/2\n",
    "    kringle['average_reasons'] = total_reasons/2\n",
    "print(kringle)"
   ]
  },
  {
   "cell_type": "code",
   "execution_count": 34,
   "id": "304df0ad",
   "metadata": {},
   "outputs": [],
   "source": [
    "import csv\n",
    "\n",
    "filename = \"leaderboard_team.csv\"\n",
    "\n",
    "fieldnames = [\"Team Rank\"]\n",
    "\n",
    "with open(filename, 'w', newline='') as csvfile:\n",
    "    writer = csv.DictWriter(csvfile, fieldnames=fieldnames)\n",
    "\n",
    "    writer.writeheader()\n",
    "\n",
    "    for i in range(1, 9):\n",
    "        writer.writerow({'Team Rank': i})\n"
   ]
  },
  {
   "cell_type": "code",
   "execution_count": 35,
   "id": "b4580fde",
   "metadata": {},
   "outputs": [],
   "source": [
    "leaderboard_team = pd.read_csv(\"C:/Users/muham/Music/5/leaderboard_team.csv\")"
   ]
  },
  {
   "cell_type": "code",
   "execution_count": 36,
   "id": "22419557",
   "metadata": {},
   "outputs": [
    {
     "name": "stdout",
     "output_type": "stream",
     "text": [
      "   Team Rank\n",
      "0          1\n",
      "1          2\n",
      "2          3\n",
      "3          4\n",
      "4          5\n",
      "5          6\n",
      "6          7\n",
      "7          8\n"
     ]
    }
   ],
   "source": [
    "print(leaderboard_team)"
   ]
  },
  {
   "cell_type": "code",
   "execution_count": 37,
   "id": "5493d0a5",
   "metadata": {},
   "outputs": [],
   "source": [
    "columns = ['Thinking Teams Leaderboard','Average statements','Average reasons']"
   ]
  },
  {
   "cell_type": "code",
   "execution_count": 38,
   "id": "38550470",
   "metadata": {},
   "outputs": [],
   "source": [
    "colms = [[None] * len(columns)]\n"
   ]
  },
  {
   "cell_type": "code",
   "execution_count": 39,
   "id": "1c64f642",
   "metadata": {},
   "outputs": [],
   "source": [
    "leaderboard_team = pd.DataFrame(colms, columns=columns)\n"
   ]
  },
  {
   "cell_type": "code",
   "execution_count": 40,
   "id": "35d95353",
   "metadata": {},
   "outputs": [
    {
     "name": "stdout",
     "output_type": "stream",
     "text": [
      "  Thinking Teams Leaderboard Average statements Average reasons\n",
      "0                       None               None            None\n"
     ]
    }
   ],
   "source": [
    "print(leaderboard_team)"
   ]
  },
  {
   "cell_type": "code",
   "execution_count": 41,
   "id": "da44f035",
   "metadata": {},
   "outputs": [
    {
     "name": "stdout",
     "output_type": "stream",
     "text": [
      "             name   uid            team_name  total_statements  total_reasons  \\\n",
      "0       Soumita M   280  Winning Culture Lab                13             21   \n",
      "7        imshawan    71             Tech Lab                 9              9   \n",
      "3          Merwin   295               Mentor                13             12   \n",
      "9         sharath  3367  Student Unicorn Lab                 8              8   \n",
      "16         Palash    69            Growpital                 6              7   \n",
      "8    Anuraj_Saini   342        BrandTech Lab                 7              7   \n",
      "19         Vatsal  3408              Kringle                 2              2   \n",
      "4   fardinkamal62   263    Human Capital Lab                 2              2   \n",
      "\n",
      "    average_statements  average_reasons  \n",
      "0            12.666667        16.000000  \n",
      "7             9.000000        10.000000  \n",
      "3             7.333333         7.666667  \n",
      "9             7.333333         6.333333  \n",
      "16            5.000000         5.666667  \n",
      "8             4.500000         5.500000  \n",
      "19            4.500000         4.500000  \n",
      "4             2.000000         4.500000  \n"
     ]
    }
   ],
   "source": [
    "\n",
    "# create an empty list to store the selected rows\n",
    "rows = []\n",
    "\n",
    "# loop over the dataframes and select the first row from each\n",
    "for df in [winning_culture, tech_lab, mentor, unicorn_lab, growpital, brand_tech, kringle, human_capital]:\n",
    "    first_row = df.iloc[[0]]\n",
    "    rows.append(first_row)\n",
    "\n",
    "# create a new dataframe from the selected rows\n",
    "new_df = pd.concat(rows)\n",
    "\n",
    "print(new_df)\n"
   ]
  },
  {
   "cell_type": "code",
   "execution_count": 42,
   "id": "ea940c9f",
   "metadata": {},
   "outputs": [],
   "source": [
    "new_df.to_csv('new_team.csv', index=False)"
   ]
  },
  {
   "cell_type": "code",
   "execution_count": 43,
   "id": "4ec71551",
   "metadata": {},
   "outputs": [
    {
     "name": "stdout",
     "output_type": "stream",
     "text": [
      "  Thinking Teams Leaderboard Average statements Average reasons\n",
      "0                       None               None            None\n"
     ]
    }
   ],
   "source": [
    "print(leaderboard_team)"
   ]
  },
  {
   "cell_type": "code",
   "execution_count": 44,
   "id": "bc0fdb6b",
   "metadata": {},
   "outputs": [],
   "source": [
    "# Read in the first CSV file\n",
    "leaderboard_team = pd.read_csv(\"C:/Users/muham/Music/5/leaderboard_team.csv\")\n",
    "\n",
    "new_team = pd.read_csv(\"C:/Users/muham/Music/5/new_team.csv\", usecols=['team_name','average_statements','average_reasons'])\n",
    "# Add the copied column as a new column to the first CSV file\n",
    "\n",
    "leaderboard_team['Thinking Teams Leaderboard'] = new_team['team_name']\n",
    "leaderboard_team['Average Statements'] = new_team['average_statements']\n",
    "leaderboard_team['Average Reasons'] = new_team['average_reasons']\n"
   ]
  },
  {
   "cell_type": "code",
   "execution_count": 45,
   "id": "da682f91",
   "metadata": {},
   "outputs": [
    {
     "name": "stdout",
     "output_type": "stream",
     "text": [
      "   Team Rank Thinking Teams Leaderboard  Average Statements  Average Reasons\n",
      "0          1        Winning Culture Lab           12.666667        16.000000\n",
      "1          2                   Tech Lab            9.000000        10.000000\n",
      "2          3                     Mentor            7.333333         7.666667\n",
      "3          4        Student Unicorn Lab            7.333333         6.333333\n",
      "4          5                  Growpital            5.000000         5.666667\n",
      "5          6              BrandTech Lab            4.500000         5.500000\n",
      "6          7                    Kringle            4.500000         4.500000\n",
      "7          8          Human Capital Lab            2.000000         4.500000\n"
     ]
    }
   ],
   "source": [
    "print(leaderboard_team)"
   ]
  },
  {
   "cell_type": "code",
   "execution_count": 47,
   "id": "68957489",
   "metadata": {},
   "outputs": [],
   "source": [
    "leaderboard_team.to_csv('leaderboard_team.csv', index=False)"
   ]
  },
  {
   "cell_type": "code",
   "execution_count": null,
   "id": "698ffa9d",
   "metadata": {},
   "outputs": [],
   "source": []
  }
 ],
 "metadata": {
  "kernelspec": {
   "display_name": "Python 3 (ipykernel)",
   "language": "python",
   "name": "python3"
  },
  "language_info": {
   "codemirror_mode": {
    "name": "ipython",
    "version": 3
   },
   "file_extension": ".py",
   "mimetype": "text/x-python",
   "name": "python",
   "nbconvert_exporter": "python",
   "pygments_lexer": "ipython3",
   "version": "3.9.12"
  }
 },
 "nbformat": 4,
 "nbformat_minor": 5
}
